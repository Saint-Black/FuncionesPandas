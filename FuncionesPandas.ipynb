{
 "cells": [
  {
   "cell_type": "code",
   "execution_count": null,
   "id": "0a912de9-6337-40d4-9620-b6dbf4c62dfd",
   "metadata": {},
   "outputs": [],
   "source": [
    "# Diccionarios predeterminados\n",
    "import pandas as pd\n",
    "import matplotlib.pyplot as plt\n",
    "import numpy as np\n",
    "import seaborn as sns\n",
    "%matplotlib inline"
   ]
  },
  {
   "cell_type": "code",
   "execution_count": null,
   "id": "6fa581d0-5b3e-4959-af54-e9824bd0060d",
   "metadata": {},
   "outputs": [],
   "source": [
    "# Metodo para determinar columnas y nulls del Df\n",
    "df.info()"
   ]
  },
  {
   "cell_type": "code",
   "execution_count": null,
   "id": "c1222924-f930-453f-bb10-85fff28aeb76",
   "metadata": {},
   "outputs": [],
   "source": [
    "# Metodo para leer csv y desplegar las columnas para visualizar los tipos de datos\n",
    "\n",
    "csv1 = \"propertysnapshot_top_20k.csv\"\n",
    "\n",
    "df = pd.read_csv(csv1, sep=',', index_col = 0)\n",
    "\n",
    "pd.set_option('display.max_columns', 100)\n",
    "\n",
    "df.head()"
   ]
  },
  {
   "cell_type": "code",
   "execution_count": null,
   "id": "eaf3e3c3-f272-44c8-9dec-23155d58c85d",
   "metadata": {},
   "outputs": [],
   "source": [
    "# Metodo para publicar del df solo lo que conincida con un dato \n",
    "df.loc[df[\"S8Approved\"] == \"S8 Approved\"]"
   ]
  },
  {
   "cell_type": "code",
   "execution_count": null,
   "id": "570089e8-e9a1-4215-a422-e9d85fde7a97",
   "metadata": {},
   "outputs": [],
   "source": [
    "#Función para sacar promedios a traves de groupby con una key column\n",
    "\n",
    "df_colums = [\"Market\", \"TenantRent\", \"TenantDeposit\"]\n",
    "\n",
    "key_colums = \"Market\"\n",
    "\n",
    "def promedio(df, parameter_colums):\n",
    "    df_filter = df[parameter_colums]\n",
    "    return (df_filter.groupby(key_colums).mean())\n",
    "\n",
    "promedio(df, df_colums)\n"
   ]
  },
  {
   "cell_type": "code",
   "execution_count": null,
   "id": "ab4361f2-6717-4cfa-b5fd-db4acfb8142c",
   "metadata": {},
   "outputs": [],
   "source": [
    "# Función para sacar el high level description\n",
    "\n",
    "df_colums = [\"City\", \"TenantRent\", \"TenantDeposit\"]\n",
    "\n",
    "key_colums = \"City\"\n",
    "\n",
    "def stats_descrip(df, parameter_colums):\n",
    "    df_filter = df[parameter_colums]\n",
    "    return (df_filter.describe())\n",
    "\n",
    "stats_descrip(df, df_colums)"
   ]
  },
  {
   "cell_type": "code",
   "execution_count": null,
   "id": "c2d91bf0-4c9b-4856-8f22-0473fd258b56",
   "metadata": {},
   "outputs": [],
   "source": [
    "# Función para contar \n",
    "\n",
    "df_colums = [\"BldgDecade\", \"City\"]\n",
    "\n",
    "key_colums = \"BldgDecade\"\n",
    "\n",
    "def contar(df, parameter_colums):\n",
    "    df_filter = df[parameter_colums]\n",
    "    return (df_filter.groupby(key_colums).count())\n",
    "\n",
    "contar(df, df_colums)"
   ]
  },
  {
   "cell_type": "code",
   "execution_count": null,
   "id": "e755d1c6-437f-431c-9897-736c782857ef",
   "metadata": {},
   "outputs": [],
   "source": [
    "# Metodo de graficación por barras definiendo una sola columna del df con un .value_counts()\n",
    "\n",
    "# Para modificar cuantas barras van a existir se configura en la sección courses y values limitando el maximo de datos con el [:6]\n",
    "\n",
    "data = df[\"BldgDecade\"].value_counts()\n",
    "\n",
    "courses = list(data.keys())[:6]\n",
    "\n",
    "values = list(data.values)[:6]\n",
    "  \n",
    "fig = plt.figure(figsize = (10, 5))\n",
    " \n",
    "plt.bar(courses, values, color ='blue',\n",
    "        width = 0.4)\n",
    " \n",
    "plt.xlabel(\"Decadas\")\n",
    "plt.ylabel(\"Numero total de viviendas\")\n",
    "plt.title(\"Edad de las propiedades\")\n",
    "plt.show()"
   ]
  },
  {
   "cell_type": "code",
   "execution_count": null,
   "id": "2a975e52-2e79-4c51-9238-5f20e20c7929",
   "metadata": {},
   "outputs": [],
   "source": [
    "# Metodo de graficación por barras validando que sea info sobre un dato especifico\n",
    "\n",
    "# Para modificar cuantas barras van a existir se configura en la sección courses y values limitando el maximo de datos con el [:6]\n",
    "\n",
    "df_ciudad_viol = df[[\"Market\", \"ViolationCategory\"]]\n",
    "\n",
    "df_ciudad_viol_filtrado = pd.DataFrame(df_ciudad_viol.loc[df_ciudad_viol[\"Market\"] == \"Greenville\"])\n",
    "\n",
    "data = df_ciudad_viol_filtrado[\"ViolationCategory\"].value_counts()\n",
    "\n",
    "courses = list(data.keys())[:5]\n",
    "\n",
    "values = list(data.values)[:5]\n",
    "  \n",
    "fig = plt.figure(figsize = (10, 5))\n",
    " \n",
    "plt.bar(courses, values, color ='blue',\n",
    "        width = 0.4)\n",
    " \n",
    "plt.xlabel(\"Categories\")\n",
    "plt.ylabel(\"Numero total de WO\")\n",
    "plt.title(\"Greenville\")\n",
    "plt.show()"
   ]
  },
  {
   "cell_type": "code",
   "execution_count": null,
   "id": "642a5a85-d4ac-49e6-95e6-78c569bcc3a8",
   "metadata": {},
   "outputs": [],
   "source": [
    "# Metodo para imprimir todas las categorias de una columna\n",
    "\n",
    "df_contar_city = df[[\"Prop_city\" , \"WO_Status\" ]]\n",
    "df_lista_city = df_contar_city.groupby(\"Prop_city\").count()\n",
    "pd.set_option('display.max_rows', 250)\n",
    "print(df_lista_city)"
   ]
  },
  {
   "cell_type": "code",
   "execution_count": null,
   "id": "a4621101-1d55-4d9b-b06e-02cec3696840",
   "metadata": {},
   "outputs": [],
   "source": [
    "# Metodo para unir dos csv por una columna en comun\n",
    "\n",
    "dfwo = pd.read_csv('workordersum_top_100k.csv', sep=',', index_col = 0)\n",
    "\n",
    "dfwo2 = dfwo.rename(columns={'Prop_Code':'PropertyID'})\n",
    "\n",
    "dfsnap = pd.read_csv('propertysnapshot_top_20k.csv', sep=',', index_col = 0)\n",
    "\n",
    "df = pd.merge(dfwo2, dfsnap, on='PropertyID')\n",
    "\n",
    "pd.set_option('display.max_columns', 100)\n",
    "\n",
    "df.head()"
   ]
  },
  {
   "cell_type": "code",
   "execution_count": null,
   "id": "5928448c-dbbb-4780-a6b0-f3d0d4543333",
   "metadata": {},
   "outputs": [],
   "source": [
    "df[\"Dias_Ultima_Camp\"]\n",
    "#funcion para filtrar solo los datos de una Columna\n"
   ]
  },
  {
   "cell_type": "code",
   "execution_count": null,
   "id": "cc002a56-aaa1-4da2-a3d0-8c7ff216ad29",
   "metadata": {},
   "outputs": [],
   "source": [
    "nuevo_df = df[[\"Estado_Civil\", \"Educacion\", \"Vivienda\", \"Consumo\" ]]\n",
    "# Metodo para crear un nuevo data frame"
   ]
  },
  {
   "cell_type": "code",
   "execution_count": null,
   "id": "18762f7d-57a2-43a9-8614-06539cd4062e",
   "metadata": {},
   "outputs": [],
   "source": [
    "df.iloc[99]\n",
    "#funcion para filtrado de filas por indice, con la funcion iloc"
   ]
  },
  {
   "cell_type": "code",
   "execution_count": null,
   "id": "1e43b2aa-fe98-45b4-8931-25633fa05781",
   "metadata": {},
   "outputs": [],
   "source": [
    "df.iloc[55:63]\n",
    "#funcion para filtrado de indices con rango de filas"
   ]
  },
  {
   "cell_type": "code",
   "execution_count": null,
   "id": "418108b6-5759-4af8-9d1a-812aa75ecdd1",
   "metadata": {},
   "outputs": [],
   "source": [
    "df.iloc[[1,2,3]]\n",
    "#filtrado de indices"
   ]
  },
  {
   "cell_type": "code",
   "execution_count": null,
   "id": "08ddb707-9bcc-4ee5-9b37-6e92594b3bcd",
   "metadata": {},
   "outputs": [],
   "source": [
    "df.loc[[6589, 6591]]\n",
    "#filtrado por indentificadores con la funcion loc (esta funcion sirve para sacar por el ID)"
   ]
  },
  {
   "cell_type": "code",
   "execution_count": null,
   "id": "2939d596-a357-4629-8ff3-ec9ad7c26d68",
   "metadata": {},
   "outputs": [],
   "source": [
    "loc[[27071, 30911, 25396 ] , [\"euribor3m\" , \"Dias_Ultima_Camp\" , \"Mes\"]]\n",
    "#funcion de filtrado de filas y columnas (en este casi, las filas 27071, con la colunma euribor3m."
   ]
  },
  {
   "cell_type": "code",
   "execution_count": null,
   "id": "4d1d3713-9c57-4c3c-a495-1602b3591969",
   "metadata": {},
   "outputs": [],
   "source": [
    "df[df[\"Edad\"] > 25]\n",
    "#funcion de Filtrado por condiciones (hay dos df, porque el primero indica que buscaremos en un dataframe, y el segundo es el nombre\n",
    "#de mi dataFrame,el cual se llama df pero puede tener otro nombre)"
   ]
  },
  {
   "cell_type": "code",
   "execution_count": null,
   "id": "06b045f8-4245-4191-96fa-83876bd2fcf9",
   "metadata": {},
   "outputs": [],
   "source": [
    "df[(df[\"Edad\"] > 25) & (df[\"nr_employed\"] < 4991.6)]\n",
    "#concactenar condiciones (explicacion: se necesita que de la columna edad, imprima todas las personas mayores de 25\n",
    "# y de la coulumna nr_employed todos los valores menores a 4991.6"
   ]
  },
  {
   "cell_type": "code",
   "execution_count": null,
   "id": "0db7dacf-c1c6-446e-9a23-9f418522d709",
   "metadata": {},
   "outputs": [],
   "source": [
    "df[df[\"Educacion\"].str.contains(\"high.school\")]\n",
    "#funcion para filtrar condicion por cadenas de texto.(imprimir todos los datos de la columna educacion\n",
    "#que tengan la palabras high.school."
   ]
  },
  {
   "cell_type": "code",
   "execution_count": null,
   "id": "fa087333-e11c-418c-b52c-b5eb3f4b1ea8",
   "metadata": {},
   "outputs": [],
   "source": [
    "#tranformacion de datos\n",
    "#Este ejemplo es para dividir todos los datos de una fila con otra\n",
    "def popularidad(fila):\n",
    "    resultado = fila[\"Campana\"]/fila[\"Edad\"]\n",
    "    \n",
    "df[\"popularidad\"] = df.apply(popularidad, axis=1)\n",
    "df.head()\n",
    "\n",
    "#esto segundo es para indicarle al dataframe que cree una nueva columna llamada popularidad y le aplique la funcion que se \n",
    "#se definio def popularidad se le hace el apply y axis=1 para que el dataframe sepa que por cada colunma debe dividir los datos."
   ]
  },
  {
   "cell_type": "code",
   "execution_count": null,
   "id": "25f66621-855f-418b-865a-631bebf91ad3",
   "metadata": {},
   "outputs": [],
   "source": [
    "import random\n",
    "def calcularRangoEdades(Edad):\n",
    "    Edad1 = * random.randint(18, 90)\n",
    "    return Edad1\n",
    "\n",
    "df[\"Rango_Edades\"] = df[\"Edad\"].apply(calcularRangoEdades)\n",
    "df.head(10)\n",
    "\n",
    "#Transformacion de datos, \n",
    "#definimos la funcion y le pasamos la columna \"edad\", donde se encuetran todos los datos que se van a trasnformar para poder crear\n",
    "#una nueva columna a partir de obtener un numero aleatorio.  se utilizo fue mulyiplicar 18 x 90 con la funcion random.radint\n",
    "#de tal modo que fue necesario antes de la funcion importar la liberia radom."
   ]
  },
  {
   "cell_type": "code",
   "execution_count": null,
   "id": "8d614b73-8282-46f7-aebb-90c93a58dfb2",
   "metadata": {},
   "outputs": [],
   "source": []
  },
  {
   "cell_type": "code",
   "execution_count": null,
   "id": "e61ef328-e424-4a0f-b128-d5b232a0289b",
   "metadata": {},
   "outputs": [],
   "source": []
  },
  {
   "cell_type": "code",
   "execution_count": null,
   "id": "f639de63-4740-4b80-b4d1-faf0b4a899ea",
   "metadata": {},
   "outputs": [],
   "source": []
  },
  {
   "cell_type": "code",
   "execution_count": null,
   "id": "a092cb6a-11d8-49d6-957f-b50f7a628246",
   "metadata": {},
   "outputs": [],
   "source": []
  },
  {
   "cell_type": "code",
   "execution_count": null,
   "id": "bd48c7ae-5a31-4ae5-b2bf-0760883f2027",
   "metadata": {},
   "outputs": [],
   "source": []
  }
 ],
 "metadata": {
  "kernelspec": {
   "display_name": "Python 3 (ipykernel)",
   "language": "python",
   "name": "python3"
  },
  "language_info": {
   "codemirror_mode": {
    "name": "ipython",
    "version": 3
   },
   "file_extension": ".py",
   "mimetype": "text/x-python",
   "name": "python",
   "nbconvert_exporter": "python",
   "pygments_lexer": "ipython3",
   "version": "3.9.12"
  }
 },
 "nbformat": 4,
 "nbformat_minor": 5
}
